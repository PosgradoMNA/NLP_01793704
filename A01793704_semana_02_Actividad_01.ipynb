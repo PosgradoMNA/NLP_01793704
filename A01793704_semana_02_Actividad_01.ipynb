{
  "nbformat": 4,
  "nbformat_minor": 0,
  "metadata": {
    "colab": {
      "provenance": [],
      "include_colab_link": true
    },
    "kernelspec": {
      "name": "python3",
      "display_name": "Python 3"
    },
    "language_info": {
      "name": "python"
    }
  },
  "cells": [
    {
      "cell_type": "markdown",
      "metadata": {
        "id": "view-in-github",
        "colab_type": "text"
      },
      "source": [
        "<a href=\"https://colab.research.google.com/github/PosgradoMNA/NLP_01793704/blob/main/A01793704_semana_02_Actividad_01.ipynb\" target=\"_parent\"><img src=\"https://colab.research.google.com/assets/colab-badge.svg\" alt=\"Open In Colab\"/></a>"
      ]
    },
    {
      "cell_type": "markdown",
      "source": [
        "#**Maestría en Inteligencia Artificial Aplicada**\n",
        "##**Curso: Procesamiento de Lenguaje Natural (NLP)**\n",
        "###Tecnológico de Monterrey\n",
        "###Prof Luis Eduardo Falcón Morales\n",
        "\n",
        "## **Adtividad de la Semana 02**\n",
        "###**Introducción al procesamiento de texto.**"
      ],
      "metadata": {
        "id": "759SG4TyfbUn"
      }
    },
    {
      "cell_type": "markdown",
      "source": [
        "En esta actividad deberás utilizar los datos del siguiente archivo que se encuentra en Canvas:\n",
        "\n",
        "MNA_NLP_semana_02_Actividad_datos.txt\n",
        "\n",
        "El archivo contiene comentarios en inglés sobre servicios de comida de la página de Yelp: https://www.yelp.com/ . \n",
        "\n",
        "Son mil comentarios y forman parte del conjunto de datos que se encuentra en el Machine Learning Repository de la UCI, llamado \"Sentiment Labelled Sentences\": https://archive.ics.uci.edu/ml/datasets/Sentiment+Labelled+Sentences#\n"
      ],
      "metadata": {
        "id": "6ue1YAKx3XDo"
      }
    },
    {
      "cell_type": "markdown",
      "source": [
        "#**Parte 1. Cargamos los datos.**   "
      ],
      "metadata": {
        "id": "Zj-h4drXD-X9"
      }
    },
    {
      "cell_type": "markdown",
      "source": [
        "Cargar los datos del archivo indicado y obtener una lista de longitud de 1000 strings/comentarios. \n",
        "\n",
        "Por el momento solamente requerimos las bibliotecas de Numpy y re, para el manejo de los arreglos y de las expresiones regulares en Python.\n",
        "\n",
        "En particular, no necesitarás en esta actividad la biblioteca de Pandas.\n",
        "\n",
        "###**NOTA: En esta actividad no debes importar nada más, con estas dos bibliotecas será *suficiente*.**"
      ],
      "metadata": {
        "id": "BY6yifxscfrx"
      }
    },
    {
      "cell_type": "code",
      "source": [
        "import numpy as np    # importamos Numpy para el manejo de los arreglos.\n",
        "import re             # importamos re para el manejo de las expresiones regulares."
      ],
      "metadata": {
        "id": "OJ26dAfhdFnf"
      },
      "execution_count": 250,
      "outputs": []
    },
    {
      "cell_type": "code",
      "source": [
        "# Ejecuta las siguientes instrucciones para cargar la información del achivo dado:\n",
        "\n",
        "with open('MNA_NLP_semana_02_Actividad_datos.txt',        # puedes actualizar la ruta a tu archivo, en dado caso.\n",
        "          mode='r',     # abrimos el archivo en modo lectura.\n",
        "          ) as f:\n",
        "    docs = f.readlines()    # separamos cada comentario por líneas\n",
        "\n",
        "f.close()  # ya que tenemos la información en la variable docs, cerramos el archivo"
      ],
      "metadata": {
        "id": "QHUmJyjDdGNP"
      },
      "execution_count": 251,
      "outputs": []
    },
    {
      "cell_type": "code",
      "source": [
        "type(docs) == list   # Verifica que tu variable \"docs\" es una lista"
      ],
      "metadata": {
        "id": "L6WzrSrodG-Y",
        "colab": {
          "base_uri": "https://localhost:8080/"
        },
        "outputId": "da733bf6-c44b-4072-8063-1a91ce17d761"
      },
      "execution_count": 252,
      "outputs": [
        {
          "output_type": "execute_result",
          "data": {
            "text/plain": [
              "True"
            ]
          },
          "metadata": {},
          "execution_count": 252
        }
      ]
    },
    {
      "cell_type": "code",
      "source": [
        "len(docs)==1000  # verifica que la longitud de \"docs\" es de mil comentarios."
      ],
      "metadata": {
        "id": "QIK1u9WS2FtS",
        "colab": {
          "base_uri": "https://localhost:8080/"
        },
        "outputId": "a2ced6ba-a27c-4bb9-89de-17e5c25b55af"
      },
      "execution_count": 253,
      "outputs": [
        {
          "output_type": "execute_result",
          "data": {
            "text/plain": [
              "True"
            ]
          },
          "metadata": {},
          "execution_count": 253
        }
      ]
    },
    {
      "cell_type": "code",
      "source": [
        "docs[0:10]     # observa algunos de los primeros comentarios"
      ],
      "metadata": {
        "id": "9AMLIfQvJqNZ",
        "colab": {
          "base_uri": "https://localhost:8080/"
        },
        "outputId": "b6549235-9e32-433d-fa87-adef0f306146"
      },
      "execution_count": 254,
      "outputs": [
        {
          "output_type": "execute_result",
          "data": {
            "text/plain": [
              "['Wow... Loved this place.\\n',\n",
              " 'Crust is not good.\\n',\n",
              " 'Not tasty and the texture was just nasty.\\n',\n",
              " 'Stopped by during the late May bank holiday off Rick Steve recommendation and loved it.\\n',\n",
              " 'The selection on the menu was great and so were the prices.\\n',\n",
              " 'Now I am getting angry and I want my damn pho.\\n',\n",
              " \"Honeslty it didn't taste THAT fresh.)\\n\",\n",
              " 'The potatoes were like rubber and you could tell they had been made up ahead of time being kept under a warmer.\\n',\n",
              " 'The fries were great too.\\n',\n",
              " 'A great touch.\\n']"
            ]
          },
          "metadata": {},
          "execution_count": 254
        }
      ]
    },
    {
      "cell_type": "markdown",
      "source": [
        "#**Parte 2: sección de preguntas (regex).**   \n"
      ],
      "metadata": {
        "id": "k_ewoagic5jc"
      }
    },
    {
      "cell_type": "markdown",
      "source": [
        "##**Instrucciones:**\n",
        "\n",
        "###**A continuación deberás contestar cada una de las preguntas que te piden usando expresiones regulares (regex).**\n",
        "\n",
        "###**Por el momento no hay restricción en cuanto al número de líneas de código que agregues, pero trata de incluir las mínimas posibles.**"
      ],
      "metadata": {
        "id": "X-eMJa3DFCIV"
      }
    },
    {
      "cell_type": "markdown",
      "source": [
        "*   **Pregunta 1.** \n",
        "\n",
        "Busca y elimina todos los saltos de línea '\\n' que se encuentran al final de cada comentario. \n",
        "\n",
        "Una vez finalizado, imprime los primeros 10 comentarios del resultado obtenido.\n"
      ],
      "metadata": {
        "id": "78nJMemzn5a5"
      }
    },
    {
      "cell_type": "code",
      "source": [
        "for w in range(len(docs)):\n",
        "    docs[w] = re.sub(r'\\n$', '', docs[w])    \n",
        "  \n"
      ],
      "metadata": {
        "id": "PwbYYIuZn8pE"
      },
      "execution_count": 255,
      "outputs": []
    },
    {
      "cell_type": "code",
      "source": [
        "docs[0:10]"
      ],
      "metadata": {
        "id": "j-0qeh2Jn8l1",
        "colab": {
          "base_uri": "https://localhost:8080/"
        },
        "outputId": "89c22b9f-39d8-407b-a1d8-80831effbc8e"
      },
      "execution_count": 256,
      "outputs": [
        {
          "output_type": "execute_result",
          "data": {
            "text/plain": [
              "['Wow... Loved this place.',\n",
              " 'Crust is not good.',\n",
              " 'Not tasty and the texture was just nasty.',\n",
              " 'Stopped by during the late May bank holiday off Rick Steve recommendation and loved it.',\n",
              " 'The selection on the menu was great and so were the prices.',\n",
              " 'Now I am getting angry and I want my damn pho.',\n",
              " \"Honeslty it didn't taste THAT fresh.)\",\n",
              " 'The potatoes were like rubber and you could tell they had been made up ahead of time being kept under a warmer.',\n",
              " 'The fries were great too.',\n",
              " 'A great touch.']"
            ]
          },
          "metadata": {},
          "execution_count": 256
        }
      ]
    },
    {
      "cell_type": "markdown",
      "source": [
        "*   **Pregunta 2.**  \n",
        "\n",
        "Busca e imprime todas las palabras que terminan con dos o más signos de admiración seguidos, por ejemplo \"!!!\". \n",
        "\n",
        "Debes imprimir tanto la palabra como la totalidad de signos de admiración que le siguen. \n",
        "\n",
        "Indica cuántos resultados obtuviste.\n",
        "\n"
      ],
      "metadata": {
        "id": "VWeKQC93ctEo"
      }
    },
    {
      "cell_type": "code",
      "source": [
        "count = 0\n",
        "for doc in docs:\n",
        "    re.X = re.findall(r'\\w+!{2,}$', doc)\n",
        "    for i in re.X:\n",
        "        \n",
        "        print(f\"{i} ({len(re.findall('!', i))} signos de admiración)\")\n",
        "        count += 1"
      ],
      "metadata": {
        "id": "0p3kMXfddICc",
        "colab": {
          "base_uri": "https://localhost:8080/"
        },
        "outputId": "e371c544-a4ff-408a-a286-c370b313cf0f"
      },
      "execution_count": 257,
      "outputs": [
        {
          "output_type": "stream",
          "name": "stdout",
          "text": [
            "Firehouse!!!!! (5 signos de admiración)\n",
            "APPETIZERS!!! (3 signos de admiración)\n",
            "amazing!!! (3 signos de admiración)\n",
            "buffet!!! (3 signos de admiración)\n",
            "good!! (2 signos de admiración)\n",
            "it!!!! (4 signos de admiración)\n",
            "DELICIOUS!! (2 signos de admiración)\n",
            "amazing!! (2 signos de admiración)\n",
            "shawarrrrrrma!!!!!! (6 signos de admiración)\n",
            "yucky!!! (3 signos de admiración)\n",
            "delicious!!! (3 signos de admiración)\n",
            "far!! (2 signos de admiración)\n",
            "biscuits!!! (3 signos de admiración)\n",
            "disappointing!!! (3 signos de admiración)\n",
            "awesome!! (2 signos de admiración)\n",
            "Up!! (2 signos de admiración)\n",
            "FLY!!!!!!!! (8 signos de admiración)\n",
            "great!!!!!!!!!!!!!! (14 signos de admiración)\n",
            "packed!! (2 signos de admiración)\n",
            "amazing!!!!!!!!!!!!!!!!!!! (19 signos de admiración)\n",
            "style!! (2 signos de admiración)\n",
            "disappointed!! (2 signos de admiración)\n"
          ]
        }
      ]
    },
    {
      "cell_type": "code",
      "source": [
        "print(f\"Se obtuvieron {count} resultados.\")"
      ],
      "metadata": {
        "colab": {
          "base_uri": "https://localhost:8080/"
        },
        "id": "B9cKWYVcrLyd",
        "outputId": "86cb9ebf-8dfc-4356-8f3b-02ba4ad97ae5"
      },
      "execution_count": 258,
      "outputs": [
        {
          "output_type": "stream",
          "name": "stdout",
          "text": [
            "Se obtuvieron 22 resultados.\n"
          ]
        }
      ]
    },
    {
      "cell_type": "markdown",
      "source": [
        "*   **Pregunta 3.**  \n",
        "\n",
        "Busca e imprime todas las palabras que están escritas totalmente en mayúsculas. Cada coincidencia debe ser una sola palabra.\n",
        "\n",
        "Indica cuántas palabras encontraste.\n",
        "\n"
      ],
      "metadata": {
        "id": "-s3okBqL96TT"
      }
    },
    {
      "cell_type": "code",
      "source": [
        "count = 0\n",
        "arr = []\n",
        "for doc in docs:\n",
        "    re.X = re.findall(r'\\b[A-Z]{4,}\\b', doc)\n",
        "    for i in re.X:\n",
        "        arr.append(i)\n",
        "        count += 1\n",
        "print(f\"Se encontraron {count} resultados.\")\n",
        "print(arr)"
      ],
      "metadata": {
        "id": "L3q08aq69sNn",
        "colab": {
          "base_uri": "https://localhost:8080/"
        },
        "outputId": "5c5c9f77-d1b3-4509-a439-f88c412a6271"
      },
      "execution_count": 259,
      "outputs": [
        {
          "output_type": "stream",
          "name": "stdout",
          "text": [
            "Se encontraron 67 resultados.\n",
            "['THAT', 'APPETIZERS', 'WILL', 'NEVER', 'EVER', 'STEP', 'FORWARD', 'AGAIN', 'LOVED', 'REAL', 'BITCHES', 'STALE', 'DELICIOUS', 'WORST', 'EXPERIENCE', 'EVER', 'BARGAIN', 'NONE', 'FREEZING', 'AYCE', 'FLAVOR', 'NEVER', 'UNREAL', 'BETTER', 'BLAND', 'RUDE', 'INCONSIDERATE', 'MANAGEMENT', 'WILL', 'NEVER', 'EVER', 'BACK', 'HAVE', 'TOLD', 'MANY', 'PEOPLE', 'WHAT', 'HAPPENED', 'TOTAL', 'WASTE', 'TIME', 'LOVED', 'CONCLUSION', 'BEST', 'AVOID', 'THIS', 'ESTABLISHMENT', 'HOUR', 'NASTY', 'BEST', 'OWNERS', 'REALLY', 'REALLY', 'PERFECT', 'SCREAMS', 'LEGIT', 'BEST', 'FANTASTIC', 'GREAT', 'MUST', 'HAVE', 'OVERPRICED', 'BARE', 'HANDS', 'WEAK', 'SHOULD', 'VERY']\n"
          ]
        }
      ]
    },
    {
      "cell_type": "markdown",
      "source": [
        "*   **Pregunta 4.**  \n",
        "\n",
        "Busca e imprime los comentarios en donde todos los caracteres alfabéticos (letras) están en mayúsculas. \n",
        "\n",
        "Cada coincidencia encontrada debe ser todo el comentario/enunciado.\n",
        "\n",
        "Indica cuántos resultados obtuviste.\n"
      ],
      "metadata": {
        "id": "GX8eYyDoMZma"
      }
    },
    {
      "cell_type": "code",
      "source": [
        "count = 0\n",
        "\n",
        "for doc in docs:\n",
        "    re.X = re.findall(r'^[^a-z]*[A-Z\\s]+[^a-z]*$', doc)\n",
        "    for i in re.X:\n",
        "        print(i.strip())\n",
        "        count += 1\n",
        "\n",
        "print(f\"Se encontraron {count} resultados.\")"
      ],
      "metadata": {
        "id": "PmKgX7sCMcDx",
        "colab": {
          "base_uri": "https://localhost:8080/"
        },
        "outputId": "1df7c01c-9599-4793-c57e-bd5ff8d6ae6a"
      },
      "execution_count": 260,
      "outputs": [
        {
          "output_type": "stream",
          "name": "stdout",
          "text": [
            "DELICIOUS!!\n",
            "RUDE & INCONSIDERATE MANAGEMENT.\n",
            "WILL NEVER EVER GO BACK AND HAVE TOLD MANY PEOPLE WHAT HAD HAPPENED.\n",
            "TOTAL WASTE OF TIME.\n",
            "AVOID THIS ESTABLISHMENT!\n",
            "Se encontraron 5 resultados.\n"
          ]
        }
      ]
    },
    {
      "cell_type": "markdown",
      "source": [
        "*   **Pregunta 5.**  \n",
        "\n",
        "Busca e imprime todas las palabras que tengan una vocal acentuada, del tipo á, é, í, ó, ú. \n",
        "\n",
        "Indica cuántos resultados obtuviste."
      ],
      "metadata": {
        "id": "a1i6qv7-McmU"
      }
    },
    {
      "cell_type": "code",
      "source": [
        "count = 0\n",
        "\n",
        "for doc in docs:\n",
        "    re.X = re.findall(r'\\w*[áéíóú]\\w*', doc)\n",
        "    for i in re.X:\n",
        "        print(i)\n",
        "        count += 1\n",
        "\n",
        "print(f\"Se encontraron {count} resultados.\")"
      ],
      "metadata": {
        "id": "l1mFvUEZMe8s",
        "colab": {
          "base_uri": "https://localhost:8080/"
        },
        "outputId": "5e83c409-3260-479a-f22b-55850e9059ec"
      },
      "execution_count": 261,
      "outputs": [
        {
          "output_type": "stream",
          "name": "stdout",
          "text": [
            "fiancé\n",
            "Café\n",
            "puréed\n",
            "Se encontraron 3 resultados.\n"
          ]
        }
      ]
    },
    {
      "cell_type": "markdown",
      "source": [
        "*   **Pregunta 6.**  \n",
        "\n",
        "Busca e imprime todas las cantidades numéricas monetarias, enteras o con decimales, que inician con el símbolo $\\$$. \n",
        "\n",
        "Indica cuántos resultados obtuviste."
      ],
      "metadata": {
        "id": "ZmPiAI82Mfb3"
      }
    },
    {
      "cell_type": "code",
      "source": [
        "count = 0\n",
        "\n",
        "for doc in docs:\n",
        "    re.X = re.findall( r'\\$\\d+(?:\\.\\d+)?', doc)\n",
        "    for i in re.X:\n",
        "        print(i)\n",
        "        count += 1\n",
        "\n",
        "print(f\"Se encontraron {count} resultados.\")"
      ],
      "metadata": {
        "id": "_t0a5xWDMhQ5",
        "colab": {
          "base_uri": "https://localhost:8080/"
        },
        "outputId": "d397c9ab-fba1-4f14-d79e-abebc7e595f6"
      },
      "execution_count": 262,
      "outputs": [
        {
          "output_type": "stream",
          "name": "stdout",
          "text": [
            "$20\n",
            "$4.00\n",
            "$17\n",
            "$3\n",
            "$35\n",
            "$7.85\n",
            "$12\n",
            "$11.99\n",
            "Se encontraron 8 resultados.\n"
          ]
        }
      ]
    },
    {
      "cell_type": "markdown",
      "source": [
        "*   **Pregunta 7.**  \n",
        "\n",
        "Busca e imprime todas las palabras que sean variantes de la palabra \"love\", sin importar si incluyen mayúsculas o minúsculas, o la manera en que esté conjugada o alguna otra variación que se haga con dicha palabra.\n",
        "\n",
        "Indica cuántos resultados obtuviste."
      ],
      "metadata": {
        "id": "2j-HpvhwMhq2"
      }
    },
    {
      "cell_type": "code",
      "source": [
        "count = 0\n",
        "arr = []\n",
        "for doc in docs:\n",
        "        re.X = re.findall(r'\\b(?:lov)\\w+\\b', doc)\n",
        "        arr.extend(re.X)\n",
        "\n",
        "print(f\"Se encontraron {len(arr)} resultados.\")\n",
        "print(arr)"
      ],
      "metadata": {
        "id": "UXd0VQluMj_x",
        "colab": {
          "base_uri": "https://localhost:8080/"
        },
        "outputId": "81782e0e-45f1-48dd-9a71-b756cd8d37bd"
      },
      "execution_count": 263,
      "outputs": [
        {
          "output_type": "stream",
          "name": "stdout",
          "text": [
            "Se encontraron 30 resultados.\n",
            "['loved', 'love', 'loves', 'lovers', 'loving', 'love', 'lovers', 'loved', 'loved', 'love', 'love', 'love', 'loved', 'love', 'loved', 'love', 'lovely', 'love', 'lovely', 'love', 'lover', 'loved', 'love', 'love', 'love', 'love', 'love', 'love', 'love', 'love']\n"
          ]
        }
      ]
    },
    {
      "cell_type": "markdown",
      "source": [
        "*   **Pregunta 8.**  \n",
        "\n",
        "Busca e imprime todas las palabras, variantes de \"so\" y \"good\", que tengan dos o más \"o\" en \"so\" y 3 o más \"o\" en good. \n",
        "\n",
        "Indica cuántas encontraste.\n"
      ],
      "metadata": {
        "id": "Ctb-NTY3MkYG"
      }
    },
    {
      "cell_type": "code",
      "source": [
        "arr = []\n",
        "for doc in docs:\n",
        "    re.X = re.findall(r'\\bso{2,}\\b|\\bg{2,}d\\b', doc)\n",
        "    arr.extend(re.X)\n",
        "print(f\"Se encontraron {len(arr)} resultados.\")\n",
        "print(arr)"
      ],
      "metadata": {
        "id": "svS4-vvPMl6f",
        "colab": {
          "base_uri": "https://localhost:8080/"
        },
        "outputId": "28daeb8c-e988-453c-bc86-b58116c859a2"
      },
      "execution_count": 264,
      "outputs": [
        {
          "output_type": "stream",
          "name": "stdout",
          "text": [
            "Se encontraron 3 resultados.\n",
            "['soooo', 'soooooo', 'soooo']\n"
          ]
        }
      ]
    },
    {
      "cell_type": "markdown",
      "source": [
        "*   **Pregunta 9.**  \n",
        "\n",
        "Busca e imprime todas las palabras que tengan una longitud mayor estrictamente a 10 caracteres alfabéticos.\n",
        "\n",
        "No se consideran los signos de puntuación o caracteres especiales en la longitud de estas cadenas, solo caracteres alfabéticos en mayúsculas o minúsculas.\n",
        "\n",
        "Indica la cantidad de palabras encontradas.\n"
      ],
      "metadata": {
        "id": "hkak1opjMmlk"
      }
    },
    {
      "cell_type": "code",
      "source": [
        "arr = []\n",
        "for doc in docs:\n",
        "    re.X = re.findall(r'[a-zA-Z]{11,}' , doc)\n",
        "    arr.extend(re.X)\n",
        "\n",
        "print(f\"Se encontraron {len(arr)} resultados.\")\n",
        "print(arr)"
      ],
      "metadata": {
        "id": "BR7e2F4FMof-",
        "colab": {
          "base_uri": "https://localhost:8080/"
        },
        "outputId": "8690c46c-0b25-4045-f554-ee51c7ea3944"
      },
      "execution_count": 265,
      "outputs": [
        {
          "output_type": "stream",
          "name": "stdout",
          "text": [
            "Se encontraron 141 resultados.\n",
            "['recommendation', 'recommended', 'overwhelmed', 'inexpensive', 'establishment', 'imaginative', 'opportunity', 'experiencing', 'underwhelming', 'relationship', 'unsatisfying', 'disappointing', 'outrageously', 'disappointing', 'expectations', 'restaurants', 'suggestions', 'disappointed', 'considering', 'Unfortunately', 'immediately', 'ingredients', 'accommodations', 'maintaining', 'Interesting', 'disrespected', 'accordingly', 'unbelievable', 'cheeseburger', 'descriptions', 'inexpensive', 'disappointed', 'Veggitarian', 'outstanding', 'recommendation', 'disappointed', 'disappointed', 'neighborhood', 'disappointed', 'corporation', 'considering', 'exceptional', 'shawarrrrrrma', 'disappointed', 'vinaigrette', 'immediately', 'unbelievably', 'replenished', 'disappointed', 'enthusiastic', 'Outstanding', 'comfortable', 'interesting', 'INCONSIDERATE', 'considering', 'transcendant', 'disappointment', 'disappointed', 'disappointed', 'overwhelmed', 'professional', 'Furthermore', 'combination', 'connoisseur', 'profiterole', 'outstanding', 'acknowledged', 'ventilation', 'beautifully', 'establishment', 'extraordinary', 'disappointed', 'cheesecurds', 'disappointed', 'interesting', 'experienced', 'opportunity', 'disgraceful', 'restaurants', 'ESTABLISHMENT', 'recommended', 'disappointed', 'recommended', 'acknowledged', 'presentation', 'Philadelphia', 'disappointed', 'disappointing', 'grandmother', 'drastically', 'informative', 'Disappointed', 'constructed', 'comfortable', 'Smashburger', 'cheeseburger', 'neighborhood', 'disappointed', 'hospitality', 'recommending', 'disappointed', 'deliciously', 'compliments', 'recommendation', 'establishment', 'calligraphy', 'traditional', 'combination', 'Unfortunately', 'Wienerschnitzel', 'unfortunately', 'considering', 'highlighted', 'Mediterranean', 'unprofessional', 'anticipated', 'disappointing', 'unexperienced', 'disrespected', 'professional', 'restaurants', 'Disappointing', 'WAAAAAAyyyyyyyyyy', 'reservation', 'imagination', 'undercooked', 'disappointed', 'disappointment', 'disappointment', 'deuchebaggery', 'disappointed', 'disappointment', 'immediately', 'Unfortunately', 'disapppointment', 'circumstances', 'undercooked', 'caterpillar', 'presentation', 'disappointed', 'underwhelming']\n"
          ]
        }
      ]
    },
    {
      "cell_type": "markdown",
      "source": [
        "*   **Pregunta 10.**  \n",
        "\n",
        "Busca e imprime todas las palabras que inician con una letra mayúscula y terminan con una minúscula, pero que además no sea la primera palabra del comentario/string. \n",
        "\n",
        "Indica la cantidad de resultados obtenidos."
      ],
      "metadata": {
        "id": "ApjTNzSxMpDc"
      }
    },
    {
      "cell_type": "code",
      "source": [
        "arr = []\n",
        "for doc in docs:\n",
        "    re.X = re.findall(r'\\s[A-Z]+[a-z]+\\s', doc)\n",
        "    for palabra in re.X:\n",
        "        if palabra not in arr:\n",
        "            arr.append(palabra)\n",
        "            \n",
        "\n",
        "print(f\"Se encontraron {len(arr)} resultados.\")\n",
        "print(arr)"
      ],
      "metadata": {
        "id": "dLPTRPnTMqqx",
        "colab": {
          "base_uri": "https://localhost:8080/"
        },
        "outputId": "56d38883-136c-4e8c-ac00-0acf6496ab2d"
      },
      "execution_count": 266,
      "outputs": [
        {
          "output_type": "stream",
          "name": "stdout",
          "text": [
            "Se encontraron 126 resultados.\n",
            "[' Loved ', ' May ', ' Rick ', ' Cape ', ' Burrittos ', ' The ', ' They ', ' Mexican ', ' Luke ', ' Our ', ' Hiro ', ' Greek ', ' Heart ', ' Grill ', ' Vegas ', ' Dos ', ' Jeff ', ' Very ', ' Customer ', ' Rice ', ' Pho ', ' Hard ', ' Casino ', ' Buffet ', ' Tigerlilly ', ' Yama ', ' Thai ', ' Indian ', ' Not ', ' Lox ', ' Subway ', ' Mandalay ', ' Great ', ' Voodoo ', ' Phoenix ', ' Khao ', ' Lemon ', ' Valley ', ' Fridays ', ' Jamaican ', ' Bussell ', ' Filet ', ' Otto ', ' Veggitarian ', ' Madison ', ' Jenni ', ' Bachi ', ' Pizza ', ' English ', ' Seat ', ' Gordon ', ' Steak ', ' Outstanding ', ' Best ', ' Lobster ', ' Eggplant ', ' Green ', ' Crystals ', ' Ians ', ' San ', ' Bay ', ' Buldogis ', ' Hot ', ' Steiners ', ' Camelback ', ' Shop ', ' Cartel ', ' Las ', ' Perfect ', ' This ', ' Crema ', ' North ', ' Bloody ', ' Caesar ', ' Macarons ', ' Big ', ' Italian ', ' Baba ', ' Smashburger ', ' Panna ', ' Mango ', ' Pineapple ', ' Strip ', ' Paradise ', ' Cibo ', ' Thumbs ', ' Pros ', ' Large ', ' Nice ', ' Elk ', ' Dylan ', ' All ', ' Han ', ' Chicken ', ' Bar ', ' Edinburgh ', ' Chinese ', ' Prices ', ' Both ', ' Sour ', ' Egg ', ' Soups ', ' Sunday ', ' Hunan ', ' Pita ', ' Wienerschnitzel ', ' Maine ', ' Roll ', ' Kabuki ', ' Maria ', ' Wife ', ' To ', ' Japanese ', ' Albondigas ', ' Mediterranean ', ' Salad ', ' Mellow ', ' Bellagio ', ' Christmas ', ' Vegetarian ', ' Taco ', ' Heimer ', ' Ha ', ' When ', ' In ', ' Ninja ']\n"
          ]
        }
      ]
    },
    {
      "cell_type": "markdown",
      "source": [
        "*   **Pregunta 11.**  \n",
        "\n",
        "Busca e imprime la secuencia de dos o más palabras que están separadas por un guion, \"-\", sin que tengan espacios en blanco entre ellas.\n",
        "\n",
        "Por ejemplo \"Go-Kart\" sería válido, pero \"Go  -Kart\" o \"Go  -  Kart\" no lo serían. \n",
        "\n",
        "Indica la cantidad de resultados obtenidos."
      ],
      "metadata": {
        "id": "u7nfm4KhMrNW"
      }
    },
    {
      "cell_type": "code",
      "source": [
        "arr = []\n",
        "for doc in docs:\n",
        "    re.X = re.findall(r'\\b\\w+-\\w+(?:-\\w+)*\\b', doc)\n",
        "    arr.extend(re.X)\n",
        "\n",
        "print(f\"Se encontraron {len(arr)} resultados.\")\n",
        "print(arr)"
      ],
      "metadata": {
        "id": "SgzIL74ZMtGw",
        "colab": {
          "base_uri": "https://localhost:8080/"
        },
        "outputId": "bc12d412-508f-4953-f823-7142e06b30e4"
      },
      "execution_count": 267,
      "outputs": [
        {
          "output_type": "stream",
          "name": "stdout",
          "text": [
            "Se encontraron 19 resultados.\n",
            "['flat-lined', 'hands-down', 'must-stop', 'sub-par', 'Service-check', 'in-house', 'been-stepped-in-and-tracked-everywhere', 'multi-grain', 'to-go', 'non-customer', 'High-quality', 'sit-down', 'over-whelm', 'low-key', 'non-fancy', 'golden-crispy', 'over-priced', 'over-hip', 'under-services']\n"
          ]
        }
      ]
    },
    {
      "cell_type": "markdown",
      "source": [
        "*   **Pregunta 12.**  \n",
        "\n",
        "Busca e imprime todas las palabras que terminan en \"ing\" o \"ed\". \n",
        "\n",
        "Indica la cantidad de palabras que encontraste de cada una."
      ],
      "metadata": {
        "id": "DEIgl79HMthr"
      }
    },
    {
      "cell_type": "code",
      "source": [
        "arr = []\n",
        "for doc in docs:\n",
        "    re.X = re.findall(r'\\w*ing$|\\w*ed$', doc)\n",
        "    arr.extend(re.X)\n",
        "\n",
        "print(f\"Se encontraron {len(arr)} resultados.\")\n",
        "print(arr)"
      ],
      "metadata": {
        "id": "AhGq6De2Mvyh",
        "colab": {
          "base_uri": "https://localhost:8080/"
        },
        "outputId": "f33801ed-ebb6-404b-ca09-931ebb4410d4"
      },
      "execution_count": 278,
      "outputs": [
        {
          "output_type": "stream",
          "name": "stdout",
          "text": [
            "Se encontraron 1 resultados.\n",
            "['amazing']\n"
          ]
        }
      ]
    },
    {
      "cell_type": "markdown",
      "source": [
        "#**Parte 3. Proceso de limpieza.**"
      ],
      "metadata": {
        "id": "70StdqAZa9E9"
      }
    },
    {
      "cell_type": "markdown",
      "source": [
        "*   **Pregunta 13.**  \n",
        "\n",
        "Ahora realiza un proceso de limpieza del corpus que incluya los siguientes procesos:\n",
        "\n",
        "*   Solo se deben considerar caracteres alfabéticos. Es decir, se eliminan todos los signos de puntuación y caracteres especiales.\n",
        "*   Todos los caracteres alfabéticos se transforman a minúsculas.\n",
        "*   Se deben eliminar todos los espacios en blanco adicionales que se puedan encontrar en cada comentario.\n",
        "\n",
        "Al finalizar dicho proceso de limpieza, imprime el resultado de los primeros 10 comentarios resultantes. \n",
        "   \n",
        "\n",
        "\n"
      ],
      "metadata": {
        "id": "xaDUFXHrMvX2"
      }
    },
    {
      "cell_type": "code",
      "source": [
        "clean_comments = []\n",
        "\n",
        "for comment in docs:\n",
        "    \n",
        "    comment = re.sub(r'[^\\w\\s]', '', str(comment))\n",
        "    \n",
        "    comment = comment.lower()\n",
        "\n",
        "    comment = re.sub(r'\\s+', ' ', comment.strip())\n",
        "    \n",
        "    clean_comments.append(comment)\n",
        "\n",
        "for comment in clean_comments[:10]:\n",
        "  print(comment)"
      ],
      "metadata": {
        "id": "K3kQzPOPMx0w",
        "colab": {
          "base_uri": "https://localhost:8080/"
        },
        "outputId": "5a6a236a-1a43-496b-8249-635e7c11e555"
      },
      "execution_count": 244,
      "outputs": [
        {
          "output_type": "stream",
          "name": "stdout",
          "text": [
            "wow loved this place\n",
            "crust is not good\n",
            "not tasty and the texture was just nasty\n",
            "stopped by during the late may bank holiday off rick steve recommendation and loved it\n",
            "the selection on the menu was great and so were the prices\n",
            "now i am getting angry and i want my damn pho\n",
            "honeslty it didnt taste that fresh\n",
            "the potatoes were like rubber and you could tell they had been made up ahead of time being kept under a warmer\n",
            "the fries were great too\n",
            "a great touch\n"
          ]
        }
      ]
    },
    {
      "cell_type": "markdown",
      "source": [
        "*   **Pregunta 14.**  \n",
        "\n",
        "Con el resultado de la limpieza obtenido en la pregunta anterior, realiza ahora un proceso de tokenización por palabras del corpus. \n",
        "\n",
        "Es decir, al final de este proceso de tokenización, debes tener como resultado una lista de listas, donde cada comentario estará tokenizado por palabras.\n",
        "\n",
        "Al terminar calcula el total de tokens obtenido en todo el corpus. "
      ],
      "metadata": {
        "id": "WZwEhg2lUSAX"
      }
    },
    {
      "cell_type": "code",
      "source": [
        "tokens_vf = []\n",
        "\n",
        "for line in docs:\n",
        "    tokens_vf.append(re.split(r'\\s', line))\n",
        "        \n",
        "tokens_vf\n",
        "\n",
        "\n",
        "count = 0\n",
        "for comment in tokens_vf:\n",
        "    count += len(comment)"
      ],
      "metadata": {
        "id": "kbAL9-v0V-jx"
      },
      "execution_count": 245,
      "outputs": []
    },
    {
      "cell_type": "code",
      "source": [],
      "metadata": {
        "id": "DZs_etmiV-fd"
      },
      "execution_count": 245,
      "outputs": []
    },
    {
      "cell_type": "markdown",
      "source": [
        "*   **Pregunta 15.**  \n",
        "\n",
        "Finalmente, en este ejercicio definiremos nuestro conjunto de palabras \"stopwords\", las cuales deberás eliminar de todo el corpus. \n",
        "\n",
        "Recuerda que ejemplos de stopwords son artículos, adverbios, conectivos, etcétera, que tienen frecuencias de aparición muy altas en cualquier documento, pero que no brindan mucho significado en cuanto al significado de un enunciado.\n",
        "\n",
        "Con base a la lista de stopwords que se te proporciona, realiza un proceso de limpieza eliminando todas estas palabras del corpus obtenido en el ejercicio anterior.\n",
        "\n",
        "Obtener cuántos tokens/palabras quedan finalmente en todo el corpus.\n",
        "\n",
        "Obtener cuántos de estos tokens/palabras son diferentes, es decir, cuántos tokens únicos tendrá lo que llamaremos más adelante nuestro vocabulario."
      ],
      "metadata": {
        "id": "EFeu0OJ7WDPD"
      }
    },
    {
      "cell_type": "code",
      "source": [
        "# Considera la siguiente lista como tu conjunto de stopwords:\n",
        "mis_stopwords = ['i', 'me', 'my', 'myself', 'we', 'our', 'ours', 'ourselves', 'you', 'your', 'yours', 'he', 'him', 'his', 'himself', 'she', 'her', 'hers', 'herself', 'it', 'its', 'itself', 'they', 'them', 'their', 'theirs', 'themselves', 'what', 'which', 'who', 'whom', 'this', 'that', 'these', 'those', 'am', 'is', 'are', 'was', 'were', 'be', 'been', 'being', 'have', 'has', 'had', 'having', 'do', 'does', 'did', 'doing', 'a', 'an', 'the', 'and', 'but', 'if', 'or', 'because', 'as', 'until', 'while', 'of', 'at', 'by', 'for', 'with', 'about', 'against', 'between', 'into', 'through', 'during', 'before', 'after', 'above', 'below', 'to', 'from', 'up', 'down', 'in', 'out', 'on', 'over', 'under', 'again', 'further', 'then', 'once', 'here', 'there', 'when', 'where', 'why', 'how', 'all', 'any', 'both', 'each', 'few', 'more', 'most', 'other', 'some', 'such', 'only', 'own', 'same', 'so', 'than', 'too', 'very', 's', 't', 'can', 'will', 'just', 'should', 'now', 'll']"
      ],
      "metadata": {
        "id": "6FP4FF3KXGxm"
      },
      "execution_count": 246,
      "outputs": []
    },
    {
      "cell_type": "code",
      "source": [
        "\n",
        "tokens_vf2 = []\n",
        "\n",
        "for comment in tokens_vf:\n",
        "    for token in comment:\n",
        "        if token not in mis_stopwords: \n",
        "            tokens_vf2.append(token) \n",
        "\n",
        "print('En total hay: ', len(tokens_vf2), ' tokens en el corpus.')\n",
        "print('De los cuales, ', len(set(tokens_vf2)), ' son únicos.')"
      ],
      "metadata": {
        "id": "CD8yjyq1ZrwY",
        "colab": {
          "base_uri": "https://localhost:8080/"
        },
        "outputId": "d670ada2-af42-4021-eb82-85efe52e5b3e"
      },
      "execution_count": 247,
      "outputs": [
        {
          "output_type": "stream",
          "name": "stdout",
          "text": [
            "En total hay:  6915  tokens en el corpus.\n",
            "De los cuales,  3014  son únicos.\n"
          ]
        }
      ]
    },
    {
      "cell_type": "markdown",
      "source": [
        "*   **Comentarios**\n",
        "\n",
        "Incluye finalmente tus comentarios de la actividad."
      ],
      "metadata": {
        "id": "NDbKkuxRbLoX"
      }
    },
    {
      "cell_type": "markdown",
      "source": [
        "<< El procesamiento de texto nos ayuda a analizar información que se encuentra en textos, mails u otros archivos no estructurados y es importante para obtener de manera rápida el análisis de un texto. >>"
      ],
      "metadata": {
        "id": "o7fzbvqVbUGr"
      }
    },
    {
      "cell_type": "markdown",
      "source": [
        "##**Fin de la Actividad de la semana 2.**"
      ],
      "metadata": {
        "id": "PHaKw_6Ldbaf"
      }
    }
  ]
}